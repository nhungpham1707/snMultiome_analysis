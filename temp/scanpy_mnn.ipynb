{
 "cells": [
  {
   "cell_type": "code",
   "execution_count": 7,
   "id": "6fa898f0-f260-4c5c-aa97-d91a2db1451c",
   "metadata": {
    "scrolled": true
   },
   "outputs": [
    {
     "name": "stdout",
     "output_type": "stream",
     "text": [
      "-----\n",
      "anndata     0.10.5.post1\n",
      "scanpy      1.9.8\n",
      "-----\n",
      "PIL                         10.2.0\n",
      "anyio                       NA\n",
      "argcomplete                 NA\n",
      "arrow                       1.3.0\n",
      "asttokens                   NA\n",
      "attr                        23.2.0\n",
      "attrs                       23.2.0\n",
      "babel                       2.14.0\n",
      "certifi                     2024.02.02\n",
      "cffi                        1.16.0\n",
      "charset_normalizer          3.3.2\n",
      "comm                        0.2.2\n",
      "cycler                      0.12.1\n",
      "cython_runtime              NA\n",
      "dateutil                    2.8.2\n",
      "debugpy                     1.8.1\n",
      "decorator                   5.1.1\n",
      "defusedxml                  0.7.1\n",
      "executing                   2.0.1\n",
      "fastjsonschema              NA\n",
      "fqdn                        NA\n",
      "h5py                        3.10.0\n",
      "idna                        3.6\n",
      "ipykernel                   6.29.3\n",
      "isoduration                 NA\n",
      "jedi                        0.19.1\n",
      "jinja2                      3.1.3\n",
      "joblib                      1.3.2\n",
      "json5                       0.9.24\n",
      "jsonpointer                 2.4\n",
      "jsonschema                  4.21.1\n",
      "jsonschema_specifications   NA\n",
      "jupyter_events              0.10.0\n",
      "jupyter_server              2.13.0\n",
      "jupyterlab_server           2.25.4\n",
      "kiwisolver                  1.4.5\n",
      "llvmlite                    0.42.0\n",
      "markupsafe                  2.1.5\n",
      "matplotlib                  3.8.3\n",
      "matplotlib_inline           0.1.6\n",
      "mpl_toolkits                NA\n",
      "natsort                     8.4.0\n",
      "nbformat                    5.10.3\n",
      "numba                       0.59.0\n",
      "numpy                       1.26.4\n",
      "overrides                   NA\n",
      "packaging                   23.2\n",
      "pandas                      2.2.0\n",
      "parso                       0.8.3\n",
      "platformdirs                4.2.0\n",
      "prometheus_client           NA\n",
      "prompt_toolkit              3.0.43\n",
      "psutil                      5.9.8\n",
      "pure_eval                   0.2.2\n",
      "pydev_ipython               NA\n",
      "pydevconsole                NA\n",
      "pydevd                      2.9.5\n",
      "pydevd_file_utils           NA\n",
      "pydevd_plugins              NA\n",
      "pydevd_tracing              NA\n",
      "pygments                    2.17.2\n",
      "pyparsing                   3.1.1\n",
      "pythonjsonlogger            NA\n",
      "pytz                        2024.1\n",
      "referencing                 NA\n",
      "requests                    2.31.0\n",
      "rfc3339_validator           0.1.4\n",
      "rfc3986_validator           0.1.1\n",
      "rpds                        NA\n",
      "scipy                       1.12.0\n",
      "send2trash                  NA\n",
      "session_info                1.0.0\n",
      "six                         1.16.0\n",
      "sklearn                     1.4.1.post1\n",
      "sniffio                     1.3.1\n",
      "stack_data                  0.6.3\n",
      "threadpoolctl               3.3.0\n",
      "torch                       2.2.1+cu121\n",
      "torchgen                    NA\n",
      "tornado                     6.4\n",
      "tqdm                        4.66.2\n",
      "traitlets                   5.14.2\n",
      "typing_extensions           NA\n",
      "uri_template                NA\n",
      "urllib3                     2.2.1\n",
      "wcwidth                     0.2.13\n",
      "webcolors                   1.13\n",
      "websocket                   1.7.0\n",
      "yaml                        6.0.1\n",
      "zmq                         25.1.2\n",
      "-----\n",
      "IPython             8.22.2\n",
      "jupyter_client      8.6.1\n",
      "jupyter_core        5.7.2\n",
      "jupyterlab          4.1.5\n",
      "notebook            7.1.2\n",
      "-----\n",
      "Python 3.11.4 | packaged by conda-forge | (main, Jun 10 2023, 18:08:17) [GCC 12.2.0]\n",
      "Linux-4.18.0-513.11.1.el8_9.x86_64-x86_64-with-glibc2.28\n",
      "-----\n",
      "Session information updated at 2024-03-28 09:30\n"
     ]
    }
   ],
   "source": [
    "import numpy as np\n",
    "import pandas as pd\n",
    "import scanpy as sc\n",
    "import matplotlib.pyplot as plt\n",
    "import tempfile\n",
    "import os\n",
    "\n",
    "sc.settings.verbosity = 3             # verbosity: errors (0), warnings (1), info (2), hints (3)\n",
    "sc.logging.print_versions()\n",
    "\n",
    "sc.settings.set_figure_params(dpi=80)\n",
    "%matplotlib inline"
   ]
  },
  {
   "cell_type": "code",
   "execution_count": 8,
   "id": "d87aa8a1-69cc-49c4-a9f8-66c5a08bc1b9",
   "metadata": {},
   "outputs": [
    {
     "name": "stdout",
     "output_type": "stream",
     "text": [
      "try downloading from url\n",
      "https://github.com/theislab/cross_system_integration/raw/main/tutorials/data/mouse-human_pancreas_subset10000.h5ad\n",
      "... this may take a while but only happens once\n"
     ]
    },
    {
     "data": {
      "application/vnd.jupyter.widget-view+json": {
       "model_id": "9e6f696267cd43aaa49eab0b775ab1cc",
       "version_major": 2,
       "version_minor": 0
      },
      "text/plain": [
       "  0%|          | 0.00/38.2M [00:00<?, ?B/s]"
      ]
     },
     "metadata": {},
     "output_type": "display_data"
    },
    {
     "name": "stderr",
     "output_type": "stream",
     "text": [
      "/hpc/pmc_drost/nhung/anaconda3/envs/infercnv_mamba/envs/scRNA_scATAC_env_copy/lib/python3.11/site-packages/anndata/__init__.py:51: FutureWarning: `anndata.read` is deprecated, use `anndata.read_h5ad` instead. `ad.read` will be removed in mid 2024.\n",
      "  warnings.warn(\n"
     ]
    },
    {
     "data": {
      "text/plain": [
       "AnnData object with n_obs × n_vars = 10000 × 1768\n",
       "    obs: 'batch', 'mm_study', 'mm_sex', 'mm_age', 'mm_study_sample_design', 'mm_hc_gene_programs_parsed', 'mm_leiden_r1.5_parsed', 'cell_type_eval', 'system', 'hs_Sex', 'hs_Diabetes Status', 'leiden_system'\n",
       "    var: 'gs_mm', 'gs_hs'\n",
       "    obsm: 'X_pca_system'\n",
       "    layers: 'counts'"
      ]
     },
     "execution_count": 8,
     "metadata": {},
     "output_type": "execute_result"
    }
   ],
   "source": [
    "save_dir = tempfile.TemporaryDirectory()\n",
    "adata_path = os.path.join(save_dir.name, \"mouse-human_pancreas_subset10000.h5ad\")\n",
    "adata = sc.read(\n",
    "    adata_path,\n",
    "    backup_url=\"https://github.com/theislab/cross_system_integration/raw/main/tutorials/data/mouse-human_pancreas_subset10000.h5ad\",\n",
    ")\n",
    "adata"
   ]
  },
  {
   "cell_type": "code",
   "execution_count": 9,
   "id": "8c2fb40f-680b-4099-94de-46b035b4e465",
   "metadata": {},
   "outputs": [
    {
     "ename": "AttributeError",
     "evalue": "'NoneType' object has no attribute 'X'",
     "output_type": "error",
     "traceback": [
      "\u001b[0;31m---------------------------------------------------------------------------\u001b[0m",
      "\u001b[0;31mAttributeError\u001b[0m                            Traceback (most recent call last)",
      "Cell \u001b[0;32mIn[9], line 1\u001b[0m\n\u001b[0;32m----> 1\u001b[0m adata2 \u001b[38;5;241m=\u001b[39m sc\u001b[38;5;241m.\u001b[39mAnnData(X\u001b[38;5;241m=\u001b[39m\u001b[43madata\u001b[49m\u001b[38;5;241;43m.\u001b[39;49m\u001b[43mraw\u001b[49m\u001b[38;5;241;43m.\u001b[39;49m\u001b[43mX\u001b[49m, var\u001b[38;5;241m=\u001b[39madata\u001b[38;5;241m.\u001b[39mraw\u001b[38;5;241m.\u001b[39mvar, obs \u001b[38;5;241m=\u001b[39m adata\u001b[38;5;241m.\u001b[39mobs)\n\u001b[1;32m      3\u001b[0m sc\u001b[38;5;241m.\u001b[39mpp\u001b[38;5;241m.\u001b[39mnormalize_per_cell(adata2, counts_per_cell_after\u001b[38;5;241m=\u001b[39m\u001b[38;5;241m1e4\u001b[39m)\n\u001b[1;32m      4\u001b[0m sc\u001b[38;5;241m.\u001b[39mpp\u001b[38;5;241m.\u001b[39mlog1p(adata2)\n",
      "\u001b[0;31mAttributeError\u001b[0m: 'NoneType' object has no attribute 'X'"
     ]
    }
   ],
   "source": [
    "adata2 = sc.AnnData(X=adata.raw.X, var=adata.raw.var, obs = adata.obs)\n",
    "\n",
    "sc.pp.normalize_per_cell(adata2, counts_per_cell_after=1e4)\n",
    "sc.pp.log1p(adata2)"
   ]
  },
  {
   "cell_type": "code",
   "execution_count": null,
   "id": "c094433f-e43d-4839-8cec-3cdb112bafd4",
   "metadata": {},
   "outputs": [],
   "source": [
    "#variable genes for the full dataset\n",
    "sc.pp.highly_variable_genes(adata2, min_mean=0.0125, max_mean=3, min_disp=0.5)\n",
    "\n",
    "sc.pl.highly_variable_genes(adata2)\n",
    "\n",
    "print(\"Highly variable genes: %d\"%sum(adata2.var.highly_variable))\n",
    "\n",
    "var_genes_all = adata2.var.highly_variable"
   ]
  },
  {
   "cell_type": "code",
   "execution_count": null,
   "id": "b2b35d6c-b272-4f0c-a4ec-3e29daa8a8d8",
   "metadata": {},
   "outputs": [],
   "source": [
    "sc.pp.highly_variable_genes(adata2, min_mean=0.0125, max_mean=3, min_disp=0.5, batch_key = 'library')\n",
    "\n",
    "print(\"Highly variable genes intersection: %d\"%sum(adata2.var.highly_variable_intersection))\n",
    "\n",
    "print(\"Number of batches where gene is variable:\")\n",
    "print(adata2.var.highly_variable_nbatches.value_counts())\n",
    "\n",
    "var_genes_batch = adata2.var.highly_variable_nbatches > 0"
   ]
  },
  {
   "cell_type": "code",
   "execution_count": null,
   "id": "fc2a0ef9-9669-4ff3-972e-7fb499b3a02a",
   "metadata": {},
   "outputs": [],
   "source": [
    "print(\"Any batch var genes: %d\"%sum(var_genes_batch))\n",
    "print(\"All data var genes: %d\"%sum(var_genes_all))\n",
    "print(\"Overlap: %d\"%sum(var_genes_batch & var_genes_all))\n",
    "print(\"Variable genes in all batches: %d\"%sum(adata2.var.highly_variable_nbatches ==3))\n",
    "print(\"Overlap batch instersection and all: %d\"%sum(var_genes_all & adata2.var.highly_variable_intersection))"
   ]
  },
  {
   "cell_type": "code",
   "execution_count": null,
   "id": "3db82d0f-6461-4553-bcf7-7e82fc1b34db",
   "metadata": {},
   "outputs": [],
   "source": [
    "var_select = adata2.var.highly_variable_nbatches > 1\n",
    "var_genes = var_select.index[var_select]\n",
    "len(var_genes)"
   ]
  },
  {
   "cell_type": "code",
   "execution_count": null,
   "id": "957fa4d9-9c93-4e39-bf3d-dcdf086a02a1",
   "metadata": {},
   "outputs": [],
   "source": [
    "# split per batch into new objects.\n",
    "batches = adata2.obs['library'].unique()\n",
    "alldata = {}\n",
    "for batch in batches:\n",
    "    alldata[batch] = adata2[adata2.obs['library'] == batch,]\n",
    "\n",
    "alldata    "
   ]
  },
  {
   "cell_type": "code",
   "execution_count": null,
   "id": "2466c293-027f-4008-83a7-8dbbd21c0f70",
   "metadata": {},
   "outputs": [],
   "source": [
    "batches"
   ]
  },
  {
   "cell_type": "code",
   "execution_count": null,
   "id": "c6672450-8876-4932-96ee-e724a51ac8b2",
   "metadata": {},
   "outputs": [],
   "source": [
    "cdata = sc.external.pp.mnn_correct(alldata['LX049_LX050_an_127'],alldata['LX051_LX052_an_128'],alldata['LX053_LX054_an_100'],\n",
    "                                   alldata['LX065_LX066_an_155'], alldata['LX067_LX068_an_156'], alldata['LX069_LX070_an_157'],\n",
    "                                   alldata['LX071_LX072_an_132'], alldata['LX074_LX075_an_159'], alldata['LX078_LX079_an_161'],\n",
    "                                   alldata['LX080_LX081_an_162'], alldata['LX093_LX094_an_163'], alldata['LX095_LX096_an_164'],\n",
    "                                   alldata['LX097_LX098_an_165'], alldata['LX099_LX100_an_166'], alldata['LX101_LX102_an_167'],\n",
    "                                   alldata['LX103_LX104_an_168'], alldata['LX183_LX184_an_322'], alldata['LX185_LX186_an_323'],\n",
    "                                   alldata['LX187_LX188_an_324'], alldata['LX189_LX190_an_325'], alldata['LX290_LX291_an_423'],\n",
    "                                   alldata['LX347_LX348_an_595'], alldata['LX379_LX380_an_596'], alldata['LX381_LX382_an_597'],\n",
    "                                   alldata['LX383_LX384_an_598'], svd_dim = 50, batch_key = 'library', \n",
    "                                   batch_categories = batches, save_raw = True, var_subset = var_genes)"
   ]
  }
 ],
 "metadata": {
  "kernelspec": {
   "display_name": "Python 3 (ipykernel)",
   "language": "python",
   "name": "python3"
  },
  "language_info": {
   "codemirror_mode": {
    "name": "ipython",
    "version": 3
   },
   "file_extension": ".py",
   "mimetype": "text/x-python",
   "name": "python",
   "nbconvert_exporter": "python",
   "pygments_lexer": "ipython3",
   "version": "3.11.4"
  }
 },
 "nbformat": 4,
 "nbformat_minor": 5
}
